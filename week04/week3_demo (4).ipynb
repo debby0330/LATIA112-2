{
  "nbformat": 4,
  "nbformat_minor": 0,
  "metadata": {
    "colab": {
      "provenance": []
    },
    "kernelspec": {
      "name": "python3",
      "display_name": "Python 3"
    },
    "language_info": {
      "name": "python"
    }
  },
  "cells": [
    {
      "cell_type": "markdown",
      "source": [
        "from google colab import files #匯入套件\n",
        "\n",
        "import pandas as pd\n",
        "\n",
        "upload = files.upload() #開啟上傳介面並載入\n",
        "\n",
        "data = pd.read_csv(\"剛剛上傳的檔案名稱\")"
      ],
      "metadata": {
        "id": "iaUICnvVBX5N"
      }
    },
    {
      "cell_type": "code",
      "execution_count": 1,
      "metadata": {
        "id": "nrJeVAasiBPQ",
        "colab": {
          "base_uri": "https://localhost:8080/"
        },
        "outputId": "94a389d9-7c12-4239-b0a9-044bab77b2f2"
      },
      "outputs": [
        {
          "output_type": "stream",
          "name": "stdout",
          "text": [
            "Mounted at /content/gdrive/\n",
            "total 390\n",
            "-rw------- 1 root root  92484 Feb 27 06:20  112_student.csv\n",
            "-rw------- 1 root root 306490 Feb 27 07:39 'week2_0227 (1).ipynb'\n"
          ]
        }
      ],
      "source": [
        "from google.colab import drive\n",
        "drive.mount('/content/gdrive/', force_remount=True)\n",
        "\n",
        "import os\n",
        "os.chdir(\"/content/gdrive/My Drive/\")\n",
        "!ls -l \"/content/gdrive/My Drive/112_2_LATIA/\""
      ]
    },
    {
      "cell_type": "code",
      "source": [
        "import pandas as pd\n",
        "\n",
        "csv_file = './112_2_LATIA/112_student.csv'\n",
        "#csv_file =\"自行填寫正確的路徑\"\n",
        "\n",
        "#columns = [\n",
        "#    \"學年度\",\"學校代碼\",\"學校名稱\",\"日間∕進修別\",\"等級別\",\"總計\",\"男生計\",\n",
        "#    \"女生計\",\"一年級男\",\"一年級女\",\"二年級男\",\"二年級女\",\"三年級男\",\"三年級女\",\n",
        "#    \"四年級男\",\"四年級女\",\"五年級男\",\"五年級女\",\"六年級男\",\"六年級女\",\n",
        "#    \"七年級男\",\"七年級女\",\"延修生男\",\"延修生女\",\"縣市名稱\",\"體系別\"\n",
        "#]\n",
        "df = pd.read_csv(csv_file, encoding='utf-8')\n",
        "#print(df.head())\n",
        "\n",
        "#查看資料欄位資訊\n",
        "print(df.info(verbose=True, show_counts=True))\n",
        "\n",
        "#查看資料的統計學資訊描述\n",
        "#print(df.describe())\n",
        "#print(df.describe(include='all'))"
      ],
      "metadata": {
        "id": "hth5CL3clOs2",
        "colab": {
          "base_uri": "https://localhost:8080/"
        },
        "outputId": "4279e7d8-6915-4d09-f89b-4e4a7bfb7d1f"
      },
      "execution_count": 2,
      "outputs": [
        {
          "output_type": "stream",
          "name": "stdout",
          "text": [
            "<class 'pandas.core.frame.DataFrame'>\n",
            "RangeIndex: 764 entries, 0 to 763\n",
            "Data columns (total 26 columns):\n",
            " #   Column  Non-Null Count  Dtype \n",
            "---  ------  --------------  ----- \n",
            " 0   學年度     764 non-null    int64 \n",
            " 1   學校代碼    764 non-null    int64 \n",
            " 2   學校名稱    764 non-null    object\n",
            " 3   日間∕進修別  764 non-null    object\n",
            " 4   等級別     764 non-null    object\n",
            " 5   總計      764 non-null    int64 \n",
            " 6   男生計     764 non-null    int64 \n",
            " 7   女生計     764 non-null    int64 \n",
            " 8   一年級男    764 non-null    int64 \n",
            " 9   一年級女    764 non-null    int64 \n",
            " 10  二年級男    764 non-null    int64 \n",
            " 11  二年級女    764 non-null    int64 \n",
            " 12  三年級男    764 non-null    int64 \n",
            " 13  三年級女    764 non-null    int64 \n",
            " 14  四年級男    764 non-null    int64 \n",
            " 15  四年級女    764 non-null    int64 \n",
            " 16  五年級男    764 non-null    int64 \n",
            " 17  五年級女    764 non-null    int64 \n",
            " 18  六年級男    764 non-null    int64 \n",
            " 19  六年級女    764 non-null    int64 \n",
            " 20  七年級男    764 non-null    int64 \n",
            " 21  七年級女    764 non-null    int64 \n",
            " 22  延修生男    764 non-null    int64 \n",
            " 23  延修生女    764 non-null    int64 \n",
            " 24  縣市名稱    764 non-null    object\n",
            " 25  體系別     764 non-null    object\n",
            "dtypes: int64(21), object(5)\n",
            "memory usage: 155.3+ KB\n",
            "None\n"
          ]
        }
      ]
    },
    {
      "cell_type": "markdown",
      "source": [
        "# 1.哪間大專院校有最多的學士生\n",
        "\n",
        "step1: 取出想要查看的欄位，並印出此資料集共有多少筆紀錄 (len)\n",
        "\n",
        "step2: 篩選等級別為\"B 學士\"的DataFrame，並印出有招生學士學制的學校數量\n",
        "\n",
        "step3: 依據\"總計\"從大到小排序並印出結果 (sort_values, by, ascending)"
      ],
      "metadata": {
        "id": "bX5p1tgOSu1i"
      }
    },
    {
      "cell_type": "code",
      "source": [
        "# 請在\"填空\"處，輸入所需要的指令或參數\n",
        "\n",
        "df1 = df[['總計',\"學校名稱\",\"等級別\"]] # 取出想要觀看的欄位\n",
        "print(\"本資料集共有\", \"df1\", \"筆紀錄\")\n",
        "\n",
        "df1_1 = df1[df1['等級別'] == 'B 學士']\n",
        "print(\"有招生學士學制的學校數量為\", df1_1, \"\\n\")\n",
        "df1_1_sorted = df1_1.sort_values(\"總計\")\n",
        "print(\"112學年度在籍的學士生最多人數之學校為\", df1_1_sorted.head(1)[\"學校名稱\"].values)\n",
        ""
      ],
      "metadata": {
        "id": "D9AfvfU-Szu7",
        "colab": {
          "base_uri": "https://localhost:8080/"
        },
        "outputId": "0392eee0-e830-45ff-831b-359082024901"
      },
      "execution_count": 3,
      "outputs": [
        {
          "output_type": "stream",
          "name": "stdout",
          "text": [
            "本資料集共有 df1 筆紀錄\n",
            "有招生學士學制的學校數量為         總計      學校名稱   等級別\n",
            "3     9763    國立政治大學  B 學士\n",
            "7     9274    國立清華大學  B 學士\n",
            "12   17323    國立臺灣大學  B 學士\n",
            "16    8503  國立臺灣師範大學  B 學士\n",
            "20   12159    國立成功大學  B 學士\n",
            "..     ...       ...   ...\n",
            "702    799  中信金融管理學院  B 學士\n",
            "733    749     馬偕醫學院  B 學士\n",
            "738     51    法鼓文理學院  B 學士\n",
            "739     19    法鼓文理學院  B 學士\n",
            "763   5275    臺北市立大學  B 學士\n",
            "\n",
            "[97 rows x 3 columns] \n",
            "\n",
            "112學年度在籍的學士生最多人數之學校為 ['真理大學']\n"
          ]
        }
      ]
    },
    {
      "cell_type": "markdown",
      "source": [
        "# 2. 國立？所；私立？所\n",
        "\n",
        "step1: 建立空字串 (lsit=[])\n",
        "\n",
        "step2: 建立for迴圈，配合if else條件，取出國立與私立\n",
        "\n",
        "step3: 新增「公私立」column在DataFrame中 (df['公私立'])\n",
        "\n",
        "step4: 篩選掉重複的學校代碼資料 (drop_duplicates)\n",
        "\n",
        "step5: 計算公立與私立學校的筆數，並印出結果 (value_counts)"
      ],
      "metadata": {
        "id": "IzqRi2WyRZFh"
      }
    },
    {
      "cell_type": "code",
      "source": [
        "type_list = [] # 建立空字串\n",
        "\n",
        "for i in df['學校名稱']:\n",
        "    if ('國立' in i) or ('市立' in i):\n",
        "        type_list.append('國立')\n",
        "    else:\n",
        "        type_list.append('私立')\n",
        "\n",
        "df['公私立'] = type_list # 將 Dataframe 新增「公私立」column\n",
        "\n",
        "df2 = df.drop_duplicates('學校代碼')\n",
        "count = df2['公私立'].value_counts()\n",
        "\n",
        "print(df2)\n",
        "print(f\"本資料集共收集了 {len(df2)} 所學校，其中公立：{count['國立']} 所；私立：{count['私立']} 所。\")\n"
      ],
      "metadata": {
        "id": "eMbiigpnRbdl",
        "colab": {
          "base_uri": "https://localhost:8080/"
        },
        "outputId": "60239cb6-4715-4455-ef27-3bea6652f0b6"
      },
      "execution_count": 4,
      "outputs": [
        {
          "output_type": "stream",
          "name": "stdout",
          "text": [
            "     學年度  學校代碼        學校名稱 日間∕進修別   等級別    總計   男生計   女生計  一年級男  一年級女  ...  \\\n",
            "0    112     1      國立政治大學    D 日  D 博士   921   517   404    86    69  ...   \n",
            "4    112     2      國立清華大學    D 日  D 博士  1636  1131   505   206    93  ...   \n",
            "9    112     3      國立臺灣大學    D 日  D 博士  3654  2454  1200   431   215  ...   \n",
            "13   112     4    國立臺灣師範大學    D 日  D 博士  1337   630   707   106   127  ...   \n",
            "17   112     5      國立成功大學    D 日  D 博士  1888  1228   660   219   136  ...   \n",
            "..   ...   ...         ...    ...   ...   ...   ...   ...   ...   ...  ...   \n",
            "753  112  1289  育英醫護管理專科學校    D 日  5 五專  1833   200  1633    39   343  ...   \n",
            "754  112  1291  聖母醫護管理專科學校    D 日  2 二專     2     2     0     0     0  ...   \n",
            "757  112  1292  新生醫護管理專科學校    N 修  2 二專    79    12    67     7    37  ...   \n",
            "759  112  1293  崇仁醫護管理專科學校    D 日  5 五專  3017   460  2557   112   515  ...   \n",
            "760  112  3002      臺北市立大學    D 日  D 博士   208    94   114    17    11  ...   \n",
            "\n",
            "     五年級女  六年級男  六年級女  七年級男  七年級女  延修生男  延修生女    縣市名稱   體系別  公私立  \n",
            "0      52    68    37    66    50     0     0  30 臺北市  1 一般   國立  \n",
            "4      60   110    50   115    56     0     0  18 新竹市  1 一般   國立  \n",
            "9     128   179   106   312   132     0     0  30 臺北市  1 一般   國立  \n",
            "13     83    59    85    87    89     0     0  30 臺北市  3 師範   國立  \n",
            "17     84   107    57   110    48     0     0  21 臺南市  1 一般   國立  \n",
            "..    ...   ...   ...   ...   ...   ...   ...     ...   ...  ...  \n",
            "753   276     0     0     0     0    13    77  50 高雄市  2 技職   私立  \n",
            "754     0     0     0     0     0     2     0  02 宜蘭縣  2 技職   私立  \n",
            "757     0     0     0     0     0     0     1  03 桃園市  2 技職   私立  \n",
            "759   529     0     0     0     0    19    45  10 嘉義縣  2 技職   私立  \n",
            "760    14     6     9    16    25     0     0  30 臺北市  1 一般   國立  \n",
            "\n",
            "[145 rows x 27 columns]\n",
            "本資料集共收集了 145 所學校，其中公立：47 所；私立：98 所。\n"
          ]
        }
      ]
    },
    {
      "cell_type": "markdown",
      "source": [
        "# 3. 各等級別學制共有？所\n",
        "\n",
        "step1: 篩選掉重複的學校名稱與等級別 (drop_duplicates, subset)\n",
        "\n",
        "step2: 計算出等級別的筆數 (value_counts)\n",
        "\n",
        "step3: 建立等級別的字串，並找出其類別 (unique)\n",
        "\n",
        "step4: 使用for迴圈，依序列出所有等級別學制的學校數量 (count)"
      ],
      "metadata": {
        "id": "Fg_f-NzNSKiU"
      }
    },
    {
      "cell_type": "code",
      "source": [
        "df3 = df.drop_duplicates(subset=['學校名稱',\"等級別\"])\n",
        "count = df3['等級別'].value_counts()\n",
        "degree_list = list(df['等級別'].unique())\n",
        "\n",
        "print(f\"本資料集總共收集了 {len(set(df['學校代碼']))} 所學校，各等級學制當中：\")\n",
        "for degree in degree_list:\n",
        "    print(f\"一共有{count[degree]} 所學校， 有招收{degree[2:]}。\")"
      ],
      "metadata": {
        "id": "FuhQKQqRSLOc",
        "colab": {
          "base_uri": "https://localhost:8080/"
        },
        "outputId": "3367d08f-2b68-4f7b-ad5d-04991531addf"
      },
      "execution_count": 5,
      "outputs": [
        {
          "output_type": "stream",
          "name": "stdout",
          "text": [
            "本資料集總共收集了 145 所學校，各等級學制當中：\n",
            "一共有84 所學校， 有招收博士。\n",
            "一共有130 所學校， 有招收碩士。\n",
            "一共有67 所學校， 有招收學士。\n",
            "一共有1 所學校， 有招收4+X。\n",
            "一共有71 所學校， 有招收二技。\n",
            "一共有66 所學校， 有招收四技。\n",
            "一共有46 所學校， 有招收五專。\n",
            "一共有2 所學校， 有招收七年。\n",
            "一共有46 所學校， 有招收二專。\n",
            "一共有1 所學校， 有招收二年制。\n"
          ]
        }
      ]
    },
    {
      "cell_type": "markdown",
      "source": [
        "# 4. 各縣市分別有？所，位於新北市的大專院校總共有幾所"
      ],
      "metadata": {
        "id": "wKevo1U1TOn2"
      }
    },
    {
      "cell_type": "code",
      "source": [
        "city_list = []\n",
        "\n",
        "for i in df['縣市名稱']:\n",
        "    city_list.append(i[3:])\n",
        "\n",
        "df['縣市名'] = city_list\n",
        "df4 = df.drop_duplicates('學校代碼')\n",
        "count = df4['縣市名'].value_counts()\n",
        "city_list = df4['縣市名'].unique()\n",
        "print(f\"本資料集共收集了 {len(df4)} 學校，其中：\")\n",
        "\n",
        "for city in city_list:\n",
        "    print(f\"{city}有 {count[city]} 所\")\n",
        "\n",
        "newtaipei = df4[df4['縣市名'] == '新北市']\n",
        "print('\\n')\n",
        "print(newtaipei['縣市名'].value_counts())"
      ],
      "metadata": {
        "id": "kTfp6k2ATPPI",
        "colab": {
          "base_uri": "https://localhost:8080/"
        },
        "outputId": "25f6f69d-a9cc-47be-ff0c-64c9b15fd917"
      },
      "execution_count": 6,
      "outputs": [
        {
          "output_type": "stream",
          "name": "stdout",
          "text": [
            "本資料集共收集了 145 學校，其中：\n",
            "臺北市有 24 所\n",
            "新竹市有 5 所\n",
            "臺南市有 13 所\n",
            "臺中市有 17 所\n",
            "桃園市有 12 所\n",
            "高雄市有 15 所\n",
            "基隆市有 3 所\n",
            "嘉義縣有 4 所\n",
            "彰化縣有 4 所\n",
            "新北市有 20 所\n",
            "嘉義市有 2 所\n",
            "花蓮縣有 4 所\n",
            "南投縣有 2 所\n",
            "雲林縣有 3 所\n",
            "屏東縣有 5 所\n",
            "臺東縣有 2 所\n",
            "宜蘭縣有 3 所\n",
            "苗栗縣有 3 所\n",
            "澎湖縣有 1 所\n",
            "金門縣有 1 所\n",
            "新竹縣有 2 所\n",
            "\n",
            "\n",
            "新北市    20\n",
            "Name: 縣市名, dtype: int64\n"
          ]
        }
      ]
    },
    {
      "cell_type": "markdown",
      "source": [
        "# 5. 北中南東區分別有？所\n",
        "\n",
        "都市及區域發展統計彙編 - 國發會 https://www.ndc.gov.tw/nc_77_4402"
      ],
      "metadata": {
        "id": "cwKsmmdNXKwL"
      }
    },
    {
      "cell_type": "markdown",
      "source": [
        "北部區域：包括臺北市、新北市、基隆市、新竹市、桃園市、新竹縣及宜蘭縣。\n",
        "\n",
        "中部區域：包括臺中市、苗栗縣、彰化縣、南投縣及雲林縣。\n",
        "\n",
        "南部區域：包括高雄市、臺南市、嘉義市、嘉義縣、屏東縣及澎湖縣。\n",
        "\n",
        "東部區域：包括花蓮縣及臺東縣。\n",
        "\n",
        "福建省：包括金門縣與連江縣。"
      ],
      "metadata": {
        "id": "nc8jGnGW_joN"
      }
    },
    {
      "cell_type": "code",
      "source": [
        "city_list = []\n",
        "\n",
        "for i in df['縣市名稱']:\n",
        "    city_list.append(i[3:])\n",
        "\n",
        "city_to_area = {'臺北市':'北部',\n",
        "         '新北市':'北部',\n",
        "         '基隆市':'北部',\n",
        "         '新竹市':'北部',\n",
        "         '桃園市':'北部',\n",
        "         '新竹縣':'北部',\n",
        "         '宜蘭縣':'北部',\n",
        "         '臺中市':'中部',\n",
        "         '苗栗縣':'中部',\n",
        "         '彰化縣':'中部',\n",
        "         '南投縣':'中部',\n",
        "         '雲林縣':'中部',\n",
        "         '高雄市':'南部',\n",
        "         '臺南市':'南部',\n",
        "         '嘉義市':'南部',\n",
        "         '嘉義縣':'南部',\n",
        "         '屏東縣':'南部',\n",
        "         '澎湖縣':'南部',\n",
        "         '花蓮縣':'東部',\n",
        "         '臺東縣':'東部',\n",
        "         '金門縣':'福建省'}\n",
        "\n",
        "df['區域'] = df['縣市名'].map(city_to_area)\n",
        "\n",
        "df5 = df.drop_duplicates('學校代碼')\n",
        "count = df5['區域'].value_counts()\n",
        "print(f\"本資料集共收集了 {len(df5)} 所學校，其中：\")\n",
        "print(f\"北部區域有 {count['北部']} 所；\\n中部區域有 {count['中部']} 所；\\n南部區域有 {count['南部']} 所；\\n東部區域有 {count['東部']} 所；\\n福建省區域有 {count['福建省']} 所。\")"
      ],
      "metadata": {
        "id": "RDgJ5YoAx92d",
        "colab": {
          "base_uri": "https://localhost:8080/"
        },
        "outputId": "e0976098-913e-4ace-a2cb-cfcd64871feb"
      },
      "execution_count": 7,
      "outputs": [
        {
          "output_type": "stream",
          "name": "stdout",
          "text": [
            "本資料集共收集了 145 所學校，其中：\n",
            "北部區域有 69 所；\n",
            "中部區域有 29 所；\n",
            "南部區域有 40 所；\n",
            "東部區域有 6 所；\n",
            "福建省區域有 1 所。\n"
          ]
        }
      ]
    },
    {
      "cell_type": "markdown",
      "source": [
        "# 6. 各體系別分別有？所"
      ],
      "metadata": {
        "id": "7WkoovplBeaz"
      }
    },
    {
      "cell_type": "code",
      "source": [],
      "metadata": {
        "id": "JKMhMFVMBiBF"
      },
      "execution_count": null,
      "outputs": []
    },
    {
      "cell_type": "markdown",
      "source": [
        "# 7. 國立/私立與男女比\n",
        "請問國立大學與私立大學在學男生女生比例為何? 延修生男生女生比例為何?"
      ],
      "metadata": {
        "id": "h3ujPC6KCLxI"
      }
    },
    {
      "cell_type": "code",
      "source": [],
      "metadata": {
        "id": "deMDYF5ACMU-"
      },
      "execution_count": null,
      "outputs": []
    },
    {
      "cell_type": "markdown",
      "source": [
        "# 8. 國立大學在學生男女比"
      ],
      "metadata": {
        "id": "DAvYMOFLCtRn"
      }
    },
    {
      "cell_type": "code",
      "source": [],
      "metadata": {
        "id": "dYAEBiC7Co8B"
      },
      "execution_count": null,
      "outputs": []
    },
    {
      "cell_type": "markdown",
      "source": [
        " # 9. 每校平均最多與最少人的體系"
      ],
      "metadata": {
        "id": "zWIyQ01LXGo_"
      }
    },
    {
      "cell_type": "code",
      "source": [],
      "metadata": {
        "id": "uSHT2gbiXIW8"
      },
      "execution_count": null,
      "outputs": []
    },
    {
      "cell_type": "markdown",
      "source": [
        "# 10. 將新增的欄位寫入並儲存成新的CSV檔案，並命名為112_students_tf.csv\n",
        "\n",
        "新增的欄位有\"公私立\"，\"縣市名\"，\"區域\""
      ],
      "metadata": {
        "id": "KIx0QtssywfA"
      }
    },
    {
      "cell_type": "code",
      "source": [
        "df.head(10)\n",
        "df.to_csv('112_students_tf.csv', encoding='utf-8', sep=',')"
      ],
      "metadata": {
        "id": "LZUhVcpGzFOE"
      },
      "execution_count": 13,
      "outputs": []
    }
  ]
}